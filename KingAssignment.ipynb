{
  "nbformat": 4,
  "nbformat_minor": 0,
  "metadata": {
    "colab": {
      "name": "KingAssignment.ipynb",
      "provenance": [],
      "collapsed_sections": [],
      "include_colab_link": true
    },
    "kernelspec": {
      "name": "python3",
      "display_name": "Python 3"
    }
  },
  "cells": [
    {
      "cell_type": "markdown",
      "metadata": {
        "id": "view-in-github",
        "colab_type": "text"
      },
      "source": [
        "<a href=\"https://colab.research.google.com/github/ellenne/getAndCleanData/blob/master/KingAssignment.ipynb\" target=\"_parent\"><img src=\"https://colab.research.google.com/assets/colab-badge.svg\" alt=\"Open In Colab\"/></a>"
      ]
    },
    {
      "cell_type": "code",
      "metadata": {
        "id": "G9vsXt8umqff",
        "colab_type": "code",
        "colab": {}
      },
      "source": [
        "from google.cloud import bigquery\n",
        "from google.colab import auth\n",
        "import pandas as pd\n",
        "import datetime\n",
        "import matplotlib\n",
        "import matplotlib.pyplot as plt\n",
        "import seaborn as sns\n",
        "from google.colab import files"
      ],
      "execution_count": 0,
      "outputs": []
    },
    {
      "cell_type": "code",
      "metadata": {
        "id": "vkKFv1Nom4Td",
        "colab_type": "code",
        "outputId": "2a8692f9-ab16-4011-d68b-47de53313a3d",
        "colab": {
          "base_uri": "https://localhost:8080/",
          "height": 35
        }
      },
      "source": [
        "auth.authenticate_user()\n",
        "print('Authenticated')"
      ],
      "execution_count": 2,
      "outputs": [
        {
          "output_type": "stream",
          "text": [
            "Authenticated\n"
          ],
          "name": "stdout"
        }
      ]
    },
    {
      "cell_type": "code",
      "metadata": {
        "id": "1uQpRCIknWAe",
        "colab_type": "code",
        "colab": {}
      },
      "source": [
        "project_id = \"king-ds-recruit-candidate-304\"\n",
        "client = bigquery.Client(project=project_id)"
      ],
      "execution_count": 0,
      "outputs": []
    },
    {
      "cell_type": "markdown",
      "metadata": {
        "id": "1WKdmJfYsLrv",
        "colab_type": "text"
      },
      "source": [
        "# Data exploration\n",
        "\n",
        "In this part of the workbook I will do some charts for the final reports."
      ]
    },
    {
      "cell_type": "code",
      "metadata": {
        "id": "gpj6VZBZoATm",
        "colab_type": "code",
        "colab": {}
      },
      "source": [
        "query = '''\n",
        "      SELECT \n",
        "      A.abtest_group as `group`\n",
        "      ,CASE\n",
        "        WHEN ACT.activity_date BETWEEN '2017-04-21' AND '2017-05-03' THEN 'pre-study'\n",
        "        WHEN ACT.activity_date BETWEEN '2017-05-04' AND '2017-05-22' THEN 'study'\n",
        "        ELSE 'error'\n",
        "      END AS period\n",
        "      ,ACT.activity_date AS dates      \n",
        "      ,SUM(ACT.gameends) / COUNT(DISTINCT ACT.playerid) as games_per_user\n",
        "      ,SUM(ACT.purchases) / COUNT(DISTINCT ACT.playerid) as purc_per_user\n",
        "      ,SUM(ACT.purchases) / SUM(ACT.gameends) as conversion\n",
        "      \n",
        "      FROM abtest.activity AS ACT\n",
        "      JOIN abtest.assignment AS A\n",
        "      ON ACT.playerid = A.playerid\n",
        "\n",
        "      WHERE 1=1\n",
        "      AND ACT.activity_date BETWEEN '2017-04-21' AND '2017-05-22'\n",
        "\n",
        "      GROUP BY 1,2,3\n",
        "      ORDER BY 1,3'''"
      ],
      "execution_count": 0,
      "outputs": []
    },
    {
      "cell_type": "code",
      "metadata": {
        "id": "NbhVLBw8p2ui",
        "colab_type": "code",
        "colab": {}
      },
      "source": [
        "query_df = client.query(query).to_dataframe()"
      ],
      "execution_count": 0,
      "outputs": []
    },
    {
      "cell_type": "code",
      "metadata": {
        "id": "puTOB133qh_X",
        "colab_type": "code",
        "outputId": "d4634591-4c54-430e-b1ed-197a970eb70a",
        "colab": {
          "base_uri": "https://localhost:8080/",
          "height": 206
        }
      },
      "source": [
        "query_df.head()"
      ],
      "execution_count": 6,
      "outputs": [
        {
          "output_type": "execute_result",
          "data": {
            "text/html": [
              "<div>\n",
              "<style scoped>\n",
              "    .dataframe tbody tr th:only-of-type {\n",
              "        vertical-align: middle;\n",
              "    }\n",
              "\n",
              "    .dataframe tbody tr th {\n",
              "        vertical-align: top;\n",
              "    }\n",
              "\n",
              "    .dataframe thead th {\n",
              "        text-align: right;\n",
              "    }\n",
              "</style>\n",
              "<table border=\"1\" class=\"dataframe\">\n",
              "  <thead>\n",
              "    <tr style=\"text-align: right;\">\n",
              "      <th></th>\n",
              "      <th>group</th>\n",
              "      <th>period</th>\n",
              "      <th>dates</th>\n",
              "      <th>games_per_user</th>\n",
              "      <th>purc_per_user</th>\n",
              "      <th>conversion</th>\n",
              "    </tr>\n",
              "  </thead>\n",
              "  <tbody>\n",
              "    <tr>\n",
              "      <th>0</th>\n",
              "      <td>A</td>\n",
              "      <td>pre-study</td>\n",
              "      <td>2017-04-21</td>\n",
              "      <td>13.182342</td>\n",
              "      <td>0.030486</td>\n",
              "      <td>0.002313</td>\n",
              "    </tr>\n",
              "    <tr>\n",
              "      <th>1</th>\n",
              "      <td>A</td>\n",
              "      <td>pre-study</td>\n",
              "      <td>2017-04-22</td>\n",
              "      <td>13.184495</td>\n",
              "      <td>0.030799</td>\n",
              "      <td>0.002336</td>\n",
              "    </tr>\n",
              "    <tr>\n",
              "      <th>2</th>\n",
              "      <td>A</td>\n",
              "      <td>pre-study</td>\n",
              "      <td>2017-04-23</td>\n",
              "      <td>13.181610</td>\n",
              "      <td>0.030393</td>\n",
              "      <td>0.002306</td>\n",
              "    </tr>\n",
              "    <tr>\n",
              "      <th>3</th>\n",
              "      <td>A</td>\n",
              "      <td>pre-study</td>\n",
              "      <td>2017-04-24</td>\n",
              "      <td>13.183644</td>\n",
              "      <td>0.030516</td>\n",
              "      <td>0.002315</td>\n",
              "    </tr>\n",
              "    <tr>\n",
              "      <th>4</th>\n",
              "      <td>A</td>\n",
              "      <td>pre-study</td>\n",
              "      <td>2017-04-25</td>\n",
              "      <td>13.184898</td>\n",
              "      <td>0.030382</td>\n",
              "      <td>0.002304</td>\n",
              "    </tr>\n",
              "  </tbody>\n",
              "</table>\n",
              "</div>"
            ],
            "text/plain": [
              "  group     period       dates  games_per_user  purc_per_user  conversion\n",
              "0     A  pre-study  2017-04-21       13.182342       0.030486    0.002313\n",
              "1     A  pre-study  2017-04-22       13.184495       0.030799    0.002336\n",
              "2     A  pre-study  2017-04-23       13.181610       0.030393    0.002306\n",
              "3     A  pre-study  2017-04-24       13.183644       0.030516    0.002315\n",
              "4     A  pre-study  2017-04-25       13.184898       0.030382    0.002304"
            ]
          },
          "metadata": {
            "tags": []
          },
          "execution_count": 6
        }
      ]
    },
    {
      "cell_type": "code",
      "metadata": {
        "id": "9byuuRzrduI5",
        "colab_type": "code",
        "colab": {
          "base_uri": "https://localhost:8080/",
          "height": 295
        },
        "outputId": "74fe25c9-7a2a-4027-a62d-2a634161c426"
      },
      "source": [
        "sns_plot1 = sns.boxplot(x='group', y='games_per_user', data=query_df).set_title(\"Games per user by group\")"
      ],
      "execution_count": 7,
      "outputs": [
        {
          "output_type": "display_data",
          "data": {
            "image/png": "[encoded data removed]",
            "text/plain": [
              "<Figure size 432x288 with 1 Axes>"
            ]
          },
          "metadata": {
            "tags": []
          }
        }
      ]
    },
    {
      "cell_type": "code",
      "metadata": {
        "id": "_swJRufWivCM",
        "colab_type": "code",
        "colab": {
          "base_uri": "https://localhost:8080/",
          "height": 363
        },
        "outputId": "d3d3947c-450d-40f4-e70a-0f60b36b8dd1"
      },
      "source": [
        "pic1 = sns_plot1.get_figure()\n",
        "pic1.savefig(\"GamesPerUserEntirePeriod.png\")\n",
        "files.download(\"GamesPerUserEntirePeriod.png\") "
      ],
      "execution_count": 8,
      "outputs": [
        {
          "output_type": "error",
          "ename": "MessageError",
          "evalue": "ignored",
          "traceback": [
            "\u001b[0;31m---------------------------------------------------------------------------\u001b[0m",
            "\u001b[0;31mMessageError\u001b[0m                              Traceback (most recent call last)",
            "\u001b[0;32m<ipython-input-8-15baa96e7ae4>\u001b[0m in \u001b[0;36m<module>\u001b[0;34m()\u001b[0m\n\u001b[1;32m      1\u001b[0m \u001b[0mpic1\u001b[0m \u001b[0;34m=\u001b[0m \u001b[0msns_plot1\u001b[0m\u001b[0;34m.\u001b[0m\u001b[0mget_figure\u001b[0m\u001b[0;34m(\u001b[0m\u001b[0;34m)\u001b[0m\u001b[0;34m\u001b[0m\u001b[0;34m\u001b[0m\u001b[0m\n\u001b[1;32m      2\u001b[0m \u001b[0mpic1\u001b[0m\u001b[0;34m.\u001b[0m\u001b[0msavefig\u001b[0m\u001b[0;34m(\u001b[0m\u001b[0;34m\"GamesPerUserEntirePeriod.png\"\u001b[0m\u001b[0;34m)\u001b[0m\u001b[0;34m\u001b[0m\u001b[0;34m\u001b[0m\u001b[0m\n\u001b[0;32m----> 3\u001b[0;31m \u001b[0mfiles\u001b[0m\u001b[0;34m.\u001b[0m\u001b[0mdownload\u001b[0m\u001b[0;34m(\u001b[0m\u001b[0;34m\"GamesPerUserEntirePeriod.png\"\u001b[0m\u001b[0;34m)\u001b[0m\u001b[0;34m\u001b[0m\u001b[0;34m\u001b[0m\u001b[0m\n\u001b[0m",
            "\u001b[0;32m/usr/local/lib/python3.6/dist-packages/google/colab/files.py\u001b[0m in \u001b[0;36mdownload\u001b[0;34m(filename)\u001b[0m\n\u001b[1;32m    176\u001b[0m       \u001b[0;34m'port'\u001b[0m\u001b[0;34m:\u001b[0m \u001b[0mport\u001b[0m\u001b[0;34m,\u001b[0m\u001b[0;34m\u001b[0m\u001b[0;34m\u001b[0m\u001b[0m\n\u001b[1;32m    177\u001b[0m       \u001b[0;34m'path'\u001b[0m\u001b[0;34m:\u001b[0m \u001b[0m_os\u001b[0m\u001b[0;34m.\u001b[0m\u001b[0mpath\u001b[0m\u001b[0;34m.\u001b[0m\u001b[0mabspath\u001b[0m\u001b[0;34m(\u001b[0m\u001b[0mfilename\u001b[0m\u001b[0;34m)\u001b[0m\u001b[0;34m,\u001b[0m\u001b[0;34m\u001b[0m\u001b[0;34m\u001b[0m\u001b[0m\n\u001b[0;32m--> 178\u001b[0;31m       \u001b[0;34m'name'\u001b[0m\u001b[0;34m:\u001b[0m \u001b[0m_os\u001b[0m\u001b[0;34m.\u001b[0m\u001b[0mpath\u001b[0m\u001b[0;34m.\u001b[0m\u001b[0mbasename\u001b[0m\u001b[0;34m(\u001b[0m\u001b[0mfilename\u001b[0m\u001b[0;34m)\u001b[0m\u001b[0;34m,\u001b[0m\u001b[0;34m\u001b[0m\u001b[0;34m\u001b[0m\u001b[0m\n\u001b[0m\u001b[1;32m    179\u001b[0m   })\n",
            "\u001b[0;32m/usr/local/lib/python3.6/dist-packages/google/colab/output/_js.py\u001b[0m in \u001b[0;36meval_js\u001b[0;34m(script, ignore_result)\u001b[0m\n\u001b[1;32m     37\u001b[0m   \u001b[0;32mif\u001b[0m \u001b[0mignore_result\u001b[0m\u001b[0;34m:\u001b[0m\u001b[0;34m\u001b[0m\u001b[0;34m\u001b[0m\u001b[0m\n\u001b[1;32m     38\u001b[0m     \u001b[0;32mreturn\u001b[0m\u001b[0;34m\u001b[0m\u001b[0;34m\u001b[0m\u001b[0m\n\u001b[0;32m---> 39\u001b[0;31m   \u001b[0;32mreturn\u001b[0m \u001b[0m_message\u001b[0m\u001b[0;34m.\u001b[0m\u001b[0mread_reply_from_input\u001b[0m\u001b[0;34m(\u001b[0m\u001b[0mrequest_id\u001b[0m\u001b[0;34m)\u001b[0m\u001b[0;34m\u001b[0m\u001b[0;34m\u001b[0m\u001b[0m\n\u001b[0m\u001b[1;32m     40\u001b[0m \u001b[0;34m\u001b[0m\u001b[0m\n\u001b[1;32m     41\u001b[0m \u001b[0;34m\u001b[0m\u001b[0m\n",
            "\u001b[0;32m/usr/local/lib/python3.6/dist-packages/google/colab/_message.py\u001b[0m in \u001b[0;36mread_reply_from_input\u001b[0;34m(message_id, timeout_sec)\u001b[0m\n\u001b[1;32m    104\u001b[0m         reply.get('colab_msg_id') == message_id):\n\u001b[1;32m    105\u001b[0m       \u001b[0;32mif\u001b[0m \u001b[0;34m'error'\u001b[0m \u001b[0;32min\u001b[0m \u001b[0mreply\u001b[0m\u001b[0;34m:\u001b[0m\u001b[0;34m\u001b[0m\u001b[0;34m\u001b[0m\u001b[0m\n\u001b[0;32m--> 106\u001b[0;31m         \u001b[0;32mraise\u001b[0m \u001b[0mMessageError\u001b[0m\u001b[0;34m(\u001b[0m\u001b[0mreply\u001b[0m\u001b[0;34m[\u001b[0m\u001b[0;34m'error'\u001b[0m\u001b[0;34m]\u001b[0m\u001b[0;34m)\u001b[0m\u001b[0;34m\u001b[0m\u001b[0;34m\u001b[0m\u001b[0m\n\u001b[0m\u001b[1;32m    107\u001b[0m       \u001b[0;32mreturn\u001b[0m \u001b[0mreply\u001b[0m\u001b[0;34m.\u001b[0m\u001b[0mget\u001b[0m\u001b[0;34m(\u001b[0m\u001b[0;34m'data'\u001b[0m\u001b[0;34m,\u001b[0m \u001b[0;32mNone\u001b[0m\u001b[0;34m)\u001b[0m\u001b[0;34m\u001b[0m\u001b[0;34m\u001b[0m\u001b[0m\n\u001b[1;32m    108\u001b[0m \u001b[0;34m\u001b[0m\u001b[0m\n",
            "\u001b[0;31mMessageError\u001b[0m: TypeError: NetworkError when attempting to fetch resource."
          ]
        }
      ]
    },
    {
      "cell_type": "code",
      "metadata": {
        "id": "qFq_ZyqtlXRS",
        "colab_type": "code",
        "colab": {
          "base_uri": "https://localhost:8080/",
          "height": 387
        },
        "outputId": "f29ca9e3-2d55-4186-ce32-4fc2ad1a4144"
      },
      "source": [
        "sns.catplot(x=\"games_per_user\",y=\"group\",kind='violin',bw=.15, cut=0,data=query_df)"
      ],
      "execution_count": 43,
      "outputs": [
        {
          "output_type": "execute_result",
          "data": {
            "text/plain": [
              "<seaborn.axisgrid.FacetGrid at 0x7fa15085e1d0>"
            ]
          },
          "metadata": {
            "tags": []
          },
          "execution_count": 43
        },
        {
          "output_type": "display_data",
          "data": {
            "image/png": "[encoded data removed]",
            "text/plain": [
              "<Figure size 360x360 with 1 Axes>"
            ]
          },
          "metadata": {
            "tags": []
          }
        }
      ]
    },
    {
      "cell_type": "code",
      "metadata": {
        "id": "Z3x_Xbn0l5gM",
        "colab_type": "code",
        "colab": {
          "base_uri": "https://localhost:8080/",
          "height": 206
        },
        "outputId": "66792c60-6f0a-431d-eaf4-dc23c432fcca"
      },
      "source": [
        "df_exp = query_df[query_df['period'] == 'study']\n",
        "df_exp.head()"
      ],
      "execution_count": 45,
      "outputs": [
        {
          "output_type": "execute_result",
          "data": {
            "text/html": [
              "<div>\n",
              "<style scoped>\n",
              "    .dataframe tbody tr th:only-of-type {\n",
              "        vertical-align: middle;\n",
              "    }\n",
              "\n",
              "    .dataframe tbody tr th {\n",
              "        vertical-align: top;\n",
              "    }\n",
              "\n",
              "    .dataframe thead th {\n",
              "        text-align: right;\n",
              "    }\n",
              "</style>\n",
              "<table border=\"1\" class=\"dataframe\">\n",
              "  <thead>\n",
              "    <tr style=\"text-align: right;\">\n",
              "      <th></th>\n",
              "      <th>group</th>\n",
              "      <th>period</th>\n",
              "      <th>dates</th>\n",
              "      <th>games_per_user</th>\n",
              "      <th>purc_per_user</th>\n",
              "      <th>conversion</th>\n",
              "    </tr>\n",
              "  </thead>\n",
              "  <tbody>\n",
              "    <tr>\n",
              "      <th>13</th>\n",
              "      <td>A</td>\n",
              "      <td>study</td>\n",
              "      <td>2017-05-04</td>\n",
              "      <td>13.179551</td>\n",
              "      <td>0.030555</td>\n",
              "      <td>0.002318</td>\n",
              "    </tr>\n",
              "    <tr>\n",
              "      <th>14</th>\n",
              "      <td>A</td>\n",
              "      <td>study</td>\n",
              "      <td>2017-05-05</td>\n",
              "      <td>13.186148</td>\n",
              "      <td>0.030470</td>\n",
              "      <td>0.002311</td>\n",
              "    </tr>\n",
              "    <tr>\n",
              "      <th>15</th>\n",
              "      <td>A</td>\n",
              "      <td>study</td>\n",
              "      <td>2017-05-06</td>\n",
              "      <td>13.182186</td>\n",
              "      <td>0.030389</td>\n",
              "      <td>0.002305</td>\n",
              "    </tr>\n",
              "    <tr>\n",
              "      <th>16</th>\n",
              "      <td>A</td>\n",
              "      <td>study</td>\n",
              "      <td>2017-05-07</td>\n",
              "      <td>13.184982</td>\n",
              "      <td>0.030673</td>\n",
              "      <td>0.002326</td>\n",
              "    </tr>\n",
              "    <tr>\n",
              "      <th>17</th>\n",
              "      <td>A</td>\n",
              "      <td>study</td>\n",
              "      <td>2017-05-08</td>\n",
              "      <td>13.186156</td>\n",
              "      <td>0.030126</td>\n",
              "      <td>0.002285</td>\n",
              "    </tr>\n",
              "  </tbody>\n",
              "</table>\n",
              "</div>"
            ],
            "text/plain": [
              "   group period       dates  games_per_user  purc_per_user  conversion\n",
              "13     A  study  2017-05-04       13.179551       0.030555    0.002318\n",
              "14     A  study  2017-05-05       13.186148       0.030470    0.002311\n",
              "15     A  study  2017-05-06       13.182186       0.030389    0.002305\n",
              "16     A  study  2017-05-07       13.184982       0.030673    0.002326\n",
              "17     A  study  2017-05-08       13.186156       0.030126    0.002285"
            ]
          },
          "metadata": {
            "tags": []
          },
          "execution_count": 45
        }
      ]
    },
    {
      "cell_type": "code",
      "metadata": {
        "id": "3GAZSNGpmUmH",
        "colab_type": "code",
        "colab": {
          "base_uri": "https://localhost:8080/",
          "height": 295
        },
        "outputId": "30e79057-f378-4ae7-8c02-5e05ebceb336"
      },
      "source": [
        "sns_plot1_1 = sns.boxplot(x='group', y='games_per_user', data=df_exp).set_title(\"Games per user by group period of experiment\")"
      ],
      "execution_count": 46,
      "outputs": [
        {
          "output_type": "display_data",
          "data": {
            "image/png": "[encoded data removed]",
            "text/plain": [
              "<Figure size 432x288 with 1 Axes>"
            ]
          },
          "metadata": {
            "tags": []
          }
        }
      ]
    },
    {
      "cell_type": "code",
      "metadata": {
        "id": "h_5cDG0rmf4J",
        "colab_type": "code",
        "colab": {}
      },
      "source": [
        "pic1_1 = sns_plot1.get_figure()\n",
        "pic1_1.savefig(\"GamesPerUserExpPeriod.png\")\n",
        "files.download(\"GamesPerUserExpPeriod.png\") "
      ],
      "execution_count": 0,
      "outputs": []
    },
    {
      "cell_type": "code",
      "metadata": {
        "id": "NwPoQFwKmxS5",
        "colab_type": "code",
        "colab": {
          "base_uri": "https://localhost:8080/",
          "height": 391
        },
        "outputId": "96d0d56e-d08d-4a28-dc65-31b3cf894036"
      },
      "source": [
        "viol1 = sns.catplot(x=\"group\",y=\"games_per_user\",kind='violin',bw=.15, cut=0,data=df_exp, )\n",
        "viol1.fig.suptitle('Games per users during period of experi')"
      ],
      "execution_count": 57,
      "outputs": [
        {
          "output_type": "execute_result",
          "data": {
            "text/plain": [
              "Text(0.5, 0.98, 'Games per users during period of experi')"
            ]
          },
          "metadata": {
            "tags": []
          },
          "execution_count": 57
        },
        {
          "output_type": "display_data",
          "data": {
            "image/png": "[encoded data removed]",
            "text/plain": [
              "<Figure size 360x360 with 1 Axes>"
            ]
          },
          "metadata": {
            "tags": []
          }
        }
      ]
    },
    {
      "cell_type": "code",
      "metadata": {
        "id": "f3uDcg60oLX9",
        "colab_type": "code",
        "colab": {}
      },
      "source": [
        "pic1_3 = viol1.savefig(\"Violin_Plot_GamesPerUser_exp.png\")\n",
        "files.download(\"Violin_Plot_GamesPerUser_exp.png\") "
      ],
      "execution_count": 0,
      "outputs": []
    },
    {
      "cell_type": "code",
      "metadata": {
        "id": "Sm5kET7dsc_j",
        "colab_type": "code",
        "colab": {
          "base_uri": "https://localhost:8080/",
          "height": 295
        },
        "outputId": "743db430-ac62-40dd-ae05-2869d081284a"
      },
      "source": [
        "groups = ['A', 'B']\n",
        "for group in groups:\n",
        "  subset = query_df[query_df['group'] == group]\n",
        "\n",
        "  sns.distplot(subset['games_per_user'], hist = False, kde = True,\n",
        "                 kde_kws = {'shade': True, 'linewidth': 3},\n",
        "                 label = group)\n",
        "\n",
        "plt.legend(prop={'size': 10}, title = 'Groups')\n",
        "plt.title('Density Plot of games per user by group')\n",
        "plt.xlabel('Games per user')\n",
        "plt.ylabel('Density')\n",
        "pic1_1 = plt.savefig(\"DensityGamesPerUserFullPeriod.png\")\n",
        "files.download(\"DensityGamesPerUserFullPeriod.png\")"
      ],
      "execution_count": 9,
      "outputs": [
        {
          "output_type": "display_data",
          "data": {
            "image/png": "[encoded data removed]",
            "text/plain": [
              "<Figure size 432x288 with 1 Axes>"
            ]
          },
          "metadata": {
            "tags": []
          }
        }
      ]
    },
    {
      "cell_type": "code",
      "metadata": {
        "id": "AWd3aZOzylm1",
        "colab_type": "code",
        "colab": {
          "base_uri": "https://localhost:8080/",
          "height": 295
        },
        "outputId": "a484c178-ae1b-45f1-ae97-d15961faacf0"
      },
      "source": [
        "groups = ['A', 'B']\n",
        "for group in groups:\n",
        "  subset = df_exp[df_exp['group'] == group]\n",
        "\n",
        "  sns.distplot(subset['games_per_user'], hist = False, kde = True,\n",
        "                 kde_kws = {'shade': True, 'linewidth': 3},\n",
        "                 label = group)\n",
        "\n",
        "plt.legend(prop={'size': 10}, title = 'Groups')\n",
        "plt.title('Density of games per user by group period of experiment')\n",
        "plt.xlabel('Games per user')\n",
        "plt.ylabel('Density')\n",
        "pic1_2 = plt.savefig(\"DensityGamesPerUserExpPeriod.png\")\n",
        "files.download(\"DensityGamesPerUserExpPeriod.png\") "
      ],
      "execution_count": 105,
      "outputs": [
        {
          "output_type": "display_data",
          "data": {
            "image/png": "[encoded data removed]",
            "text/plain": [
              "<Figure size 432x288 with 1 Axes>"
            ]
          },
          "metadata": {
            "tags": []
          }
        }
      ]
    },
    {
      "cell_type": "code",
      "metadata": {
        "colab_type": "code",
        "outputId": "14b0a08b-c1d7-4ec9-893d-dbc5899b72d1",
        "id": "UuyvkS6szZrS",
        "colab": {
          "base_uri": "https://localhost:8080/",
          "height": 295
        }
      },
      "source": [
        "groups = ['A', 'B']\n",
        "for group in groups:\n",
        "  subset = query_df[query_df['group'] == group]\n",
        "\n",
        "  sns.distplot(subset['conversion'], hist = False, kde = True,\n",
        "                 kde_kws = {'shade': True, 'linewidth': 3},\n",
        "                 label = group)\n",
        "\n",
        "plt.legend(prop={'size': 10}, title = 'Groups')\n",
        "plt.title('Density Plot conversion by group entire period')\n",
        "plt.xlabel('Conversion')\n",
        "plt.ylabel('Density')\n",
        "pic2_1 = plt.savefig(\"DensityConversionFullPeriod.png\")\n",
        "files.download(\"DensityConversionFullPeriod.png\") "
      ],
      "execution_count": 103,
      "outputs": [
        {
          "output_type": "display_data",
          "data": {
            "image/png": "[encoded data removed]",
            "text/plain": [
              "<Figure size 432x288 with 1 Axes>"
            ]
          },
          "metadata": {
            "tags": []
          }
        }
      ]
    },
    {
      "cell_type": "code",
      "metadata": {
        "id": "0v9lqG-Hz5nt",
        "colab_type": "code",
        "colab": {
          "base_uri": "https://localhost:8080/",
          "height": 206
        },
        "outputId": "2979dbcd-bb7b-4846-9f6a-1ce53b58d42a"
      },
      "source": [
        "df_A = query_df[query_df['group'] == 'A']\n",
        "df_A.head()"
      ],
      "execution_count": 10,
      "outputs": [
        {
          "output_type": "execute_result",
          "data": {
            "text/html": [
              "<div>\n",
              "<style scoped>\n",
              "    .dataframe tbody tr th:only-of-type {\n",
              "        vertical-align: middle;\n",
              "    }\n",
              "\n",
              "    .dataframe tbody tr th {\n",
              "        vertical-align: top;\n",
              "    }\n",
              "\n",
              "    .dataframe thead th {\n",
              "        text-align: right;\n",
              "    }\n",
              "</style>\n",
              "<table border=\"1\" class=\"dataframe\">\n",
              "  <thead>\n",
              "    <tr style=\"text-align: right;\">\n",
              "      <th></th>\n",
              "      <th>group</th>\n",
              "      <th>period</th>\n",
              "      <th>dates</th>\n",
              "      <th>games_per_user</th>\n",
              "      <th>purc_per_user</th>\n",
              "      <th>conversion</th>\n",
              "    </tr>\n",
              "  </thead>\n",
              "  <tbody>\n",
              "    <tr>\n",
              "      <th>0</th>\n",
              "      <td>A</td>\n",
              "      <td>pre-study</td>\n",
              "      <td>2017-04-21</td>\n",
              "      <td>13.182342</td>\n",
              "      <td>0.030486</td>\n",
              "      <td>0.002313</td>\n",
              "    </tr>\n",
              "    <tr>\n",
              "      <th>1</th>\n",
              "      <td>A</td>\n",
              "      <td>pre-study</td>\n",
              "      <td>2017-04-22</td>\n",
              "      <td>13.184495</td>\n",
              "      <td>0.030799</td>\n",
              "      <td>0.002336</td>\n",
              "    </tr>\n",
              "    <tr>\n",
              "      <th>2</th>\n",
              "      <td>A</td>\n",
              "      <td>pre-study</td>\n",
              "      <td>2017-04-23</td>\n",
              "      <td>13.181610</td>\n",
              "      <td>0.030393</td>\n",
              "      <td>0.002306</td>\n",
              "    </tr>\n",
              "    <tr>\n",
              "      <th>3</th>\n",
              "      <td>A</td>\n",
              "      <td>pre-study</td>\n",
              "      <td>2017-04-24</td>\n",
              "      <td>13.183644</td>\n",
              "      <td>0.030516</td>\n",
              "      <td>0.002315</td>\n",
              "    </tr>\n",
              "    <tr>\n",
              "      <th>4</th>\n",
              "      <td>A</td>\n",
              "      <td>pre-study</td>\n",
              "      <td>2017-04-25</td>\n",
              "      <td>13.184898</td>\n",
              "      <td>0.030382</td>\n",
              "      <td>0.002304</td>\n",
              "    </tr>\n",
              "  </tbody>\n",
              "</table>\n",
              "</div>"
            ],
            "text/plain": [
              "  group     period       dates  games_per_user  purc_per_user  conversion\n",
              "0     A  pre-study  2017-04-21       13.182342       0.030486    0.002313\n",
              "1     A  pre-study  2017-04-22       13.184495       0.030799    0.002336\n",
              "2     A  pre-study  2017-04-23       13.181610       0.030393    0.002306\n",
              "3     A  pre-study  2017-04-24       13.183644       0.030516    0.002315\n",
              "4     A  pre-study  2017-04-25       13.184898       0.030382    0.002304"
            ]
          },
          "metadata": {
            "tags": []
          },
          "execution_count": 10
        }
      ]
    },
    {
      "cell_type": "code",
      "metadata": {
        "id": "mTPAzEi3ImBH",
        "colab_type": "code",
        "colab": {
          "base_uri": "https://localhost:8080/",
          "height": 206
        },
        "outputId": "23aad141-0948-4b6c-d7da-e3206ae951c4"
      },
      "source": [
        "df_B = query_df[query_df['group'] == 'B']\n",
        "df_B.head()"
      ],
      "execution_count": 14,
      "outputs": [
        {
          "output_type": "execute_result",
          "data": {
            "text/html": [
              "<div>\n",
              "<style scoped>\n",
              "    .dataframe tbody tr th:only-of-type {\n",
              "        vertical-align: middle;\n",
              "    }\n",
              "\n",
              "    .dataframe tbody tr th {\n",
              "        vertical-align: top;\n",
              "    }\n",
              "\n",
              "    .dataframe thead th {\n",
              "        text-align: right;\n",
              "    }\n",
              "</style>\n",
              "<table border=\"1\" class=\"dataframe\">\n",
              "  <thead>\n",
              "    <tr style=\"text-align: right;\">\n",
              "      <th></th>\n",
              "      <th>group</th>\n",
              "      <th>period</th>\n",
              "      <th>dates</th>\n",
              "      <th>games_per_user</th>\n",
              "      <th>purc_per_user</th>\n",
              "      <th>conversion</th>\n",
              "    </tr>\n",
              "  </thead>\n",
              "  <tbody>\n",
              "    <tr>\n",
              "      <th>32</th>\n",
              "      <td>B</td>\n",
              "      <td>pre-study</td>\n",
              "      <td>2017-04-21</td>\n",
              "      <td>13.174576</td>\n",
              "      <td>0.030779</td>\n",
              "      <td>0.002336</td>\n",
              "    </tr>\n",
              "    <tr>\n",
              "      <th>33</th>\n",
              "      <td>B</td>\n",
              "      <td>pre-study</td>\n",
              "      <td>2017-04-22</td>\n",
              "      <td>13.176215</td>\n",
              "      <td>0.030741</td>\n",
              "      <td>0.002333</td>\n",
              "    </tr>\n",
              "    <tr>\n",
              "      <th>34</th>\n",
              "      <td>B</td>\n",
              "      <td>pre-study</td>\n",
              "      <td>2017-04-23</td>\n",
              "      <td>13.164247</td>\n",
              "      <td>0.030578</td>\n",
              "      <td>0.002323</td>\n",
              "    </tr>\n",
              "    <tr>\n",
              "      <th>35</th>\n",
              "      <td>B</td>\n",
              "      <td>pre-study</td>\n",
              "      <td>2017-04-24</td>\n",
              "      <td>13.172793</td>\n",
              "      <td>0.030419</td>\n",
              "      <td>0.002309</td>\n",
              "    </tr>\n",
              "    <tr>\n",
              "      <th>36</th>\n",
              "      <td>B</td>\n",
              "      <td>pre-study</td>\n",
              "      <td>2017-04-25</td>\n",
              "      <td>13.177444</td>\n",
              "      <td>0.030698</td>\n",
              "      <td>0.002330</td>\n",
              "    </tr>\n",
              "  </tbody>\n",
              "</table>\n",
              "</div>"
            ],
            "text/plain": [
              "   group     period       dates  games_per_user  purc_per_user  conversion\n",
              "32     B  pre-study  2017-04-21       13.174576       0.030779    0.002336\n",
              "33     B  pre-study  2017-04-22       13.176215       0.030741    0.002333\n",
              "34     B  pre-study  2017-04-23       13.164247       0.030578    0.002323\n",
              "35     B  pre-study  2017-04-24       13.172793       0.030419    0.002309\n",
              "36     B  pre-study  2017-04-25       13.177444       0.030698    0.002330"
            ]
          },
          "metadata": {
            "tags": []
          },
          "execution_count": 14
        }
      ]
    },
    {
      "cell_type": "code",
      "metadata": {
        "id": "YlvIFXuaHicZ",
        "colab_type": "code",
        "colab": {
          "base_uri": "https://localhost:8080/",
          "height": 295
        },
        "outputId": "56edc63c-8b81-471a-a276-cf29f25ce6f8"
      },
      "source": [
        "times = ['pre-study', 'study']\n",
        "col = ['green', 'blue']\n",
        "for time in times:\n",
        "  subset = df_A[df_A['period'] == time]\n",
        "\n",
        "  sns.distplot(subset['games_per_user'], hist = False, kde = True,\n",
        "                 kde_kws = {'shade': True, 'linewidth': 3},\n",
        "                 color = col[times.index(time)],\n",
        "                 label = time)\n",
        "\n",
        "plt.legend(prop={'size': 10}, title = 'Periods')\n",
        "plt.title('Density Plot for group A pre-test and during the test')\n",
        "plt.xlabel('Games per user')\n",
        "plt.ylabel('Density')\n",
        "pic2_1 = plt.savefig(\"DensityGroupA_ByPeriod.png\")\n",
        "files.download(\"DensityGroupA_ByPeriod.png\") "
      ],
      "execution_count": 18,
      "outputs": [
        {
          "output_type": "display_data",
          "data": {
            "image/png": "[encoded data removed]",
            "text/plain": [
              "<Figure size 432x288 with 1 Axes>"
            ]
          },
          "metadata": {
            "tags": []
          }
        }
      ]
    },
    {
      "cell_type": "code",
      "metadata": {
        "id": "RskN0AQ6IsJ1",
        "colab_type": "code",
        "colab": {
          "base_uri": "https://localhost:8080/",
          "height": 295
        },
        "outputId": "b4450a26-4fc7-4d52-de50-9c4ff289ee9d"
      },
      "source": [
        "times = ['pre-study', 'study']\n",
        "col = ['green', 'blue']\n",
        "for time in times:\n",
        "  subset = df_B[df_B['period'] == time]\n",
        "\n",
        "  sns.distplot(subset['games_per_user'], hist = False, kde = True,\n",
        "                 kde_kws = {'shade': True, 'linewidth': 3}, \n",
        "               color = col[times.index(time)],\n",
        "               label = time)\n",
        "\n",
        "plt.legend(prop={'size': 10}, title = 'Periods')\n",
        "plt.title('Density Plot for group B pre-test and during the test')\n",
        "plt.xlabel('Games per user')\n",
        "plt.ylabel('Density')\n",
        "pic2_1 = plt.savefig(\"DensityGroupB_ByPeriod.png\")\n",
        "files.download(\"DensityGroupB_ByPeriod.png\") "
      ],
      "execution_count": 16,
      "outputs": [
        {
          "output_type": "display_data",
          "data": {
            "image/png": "[encoded data removed]",
            "text/plain": [
              "<Figure size 432x288 with 1 Axes>"
            ]
          },
          "metadata": {
            "tags": []
          }
        }
      ]
    },
    {
      "cell_type": "markdown",
      "metadata": {
        "id": "EfSqw0tPf6b8",
        "colab_type": "text"
      },
      "source": [
        "#Streak\n",
        "\n",
        "In this part of the notebook I will try to work out the number of users who used the application for N consecutive days. <br/>\n",
        "The idea is to start from a N day windows and move it by one day each time, take the unique users and then merge the current list with the previous dropping the duplicates. At the end I will be able to count the total number of users for all possible windows in a given period.<br/>\n",
        "In our case the period is 2017-04-21 until 2017-05-22"
      ]
    },
    {
      "cell_type": "code",
      "metadata": {
        "id": "Aq8SCf_KgcVO",
        "colab_type": "code",
        "colab": {
          "base_uri": "https://localhost:8080/",
          "height": 1000
        },
        "outputId": "414e3b4f-c15c-4790-8f57-2512adfd3414"
      },
      "source": [
        "winLB = datetime.date(2017, 4, 20)\n",
        "winLimit = datetime.date(2017, 5, 22)\n",
        "accumul_df = pd.DataFrame()\n",
        "group = 'A'\n",
        "\n",
        "#winLB = winLB + datetime.timedelta(days=1)\n",
        "#a = print(winLB)\n",
        "#a\n",
        "\n",
        "while True:\n",
        "  #yourdatetime.date() == datetime.today().date()  \n",
        "  winUB = winLB + datetime.timedelta(days=4)\n",
        "  if winUB == winLimit+ datetime.timedelta(days=1):\n",
        "    break\n",
        "  \n",
        "  dayP1 = winLB + datetime.timedelta(days=1)\n",
        "  dayP2 = dayP1 + datetime.timedelta(days=1)\n",
        "  dayP3 = dayP2 + datetime.timedelta(days=1)\n",
        "  dayP4 = dayP3 + datetime.timedelta(days=1)  \n",
        "\n",
        "  query = f\"\"\"\n",
        "  SELECT DISTINCT ACT.playerid AS users\n",
        "\n",
        "  FROM abtest.activity AS ACT\n",
        "  JOIN abtest.assignment AS A\n",
        "  ON ACT.playerid = A.playerid\n",
        "\n",
        "  WHERE 1=1\n",
        "  AND A.abtest_group = '{group}'\n",
        "  AND ACT.activity_date = '{winLB.strftime('%Y-%m-%d')}'\n",
        "  AND ACT.playerid IN\n",
        "  (\n",
        "    SELECT ACT2.playerid\n",
        "    FROM abtest.activity AS ACT2\n",
        "    WHERE 1=1\n",
        "    AND ACT2.activity_date = '{dayP1.strftime('%Y-%m-%d')}'     \n",
        "  )\n",
        "  AND ACT.playerid IN\n",
        "  (\n",
        "    SELECT ACT3.playerid\n",
        "    FROM abtest.activity AS ACT3\n",
        "    WHERE 1=1\n",
        "    AND ACT3.activity_date = '{dayP2.strftime('%Y-%m-%d')}'\n",
        "   )\n",
        "  AND ACT.playerid IN\n",
        "  (\n",
        "    SELECT ACT4.playerid\n",
        "    FROM abtest.activity AS ACT4\n",
        "    WHERE 1=1\n",
        "    AND ACT4.activity_date = '{dayP3.strftime('%Y-%m-%d')}'     \n",
        "   )\n",
        "  AND ACT.playerid IN\n",
        "  (\n",
        "    SELECT ACT5.playerid\n",
        "    FROM abtest.activity AS ACT5\n",
        "    WHERE 1=1\n",
        "    AND ACT5.activity_date = '{dayP4.strftime('%Y-%m-%d')}'           \n",
        "  )\n",
        "  \"\"\"    \n",
        "  sLB = winLB.strftime('%Y-%m-%d')\n",
        "  sUB = dayP4.strftime('%Y-%m-%d')\n",
        "  print(\"Period tested \" + sLB + \" and \" + sUB)\n",
        "\n",
        "  #update starting LowerBound\n",
        "  winLB = winLB + datetime.timedelta(days=1)\n",
        "\n",
        "  #execute the query\n",
        "  query_df = client.query(query).to_dataframe()\n",
        "  print(\"Query result rows = \" + str(query_df.shape[0]))\n",
        "\n",
        "  #merge dataframes and delete duplicates\n",
        "  if accumul_df.shape[0] == 0:\n",
        "    accumul_df = query_df\n",
        "  else:\n",
        "    accumul_df = pd.concat([accumul_df, query_df])\n",
        "\n",
        "  accumul_df = accumul_df.drop_duplicates().reset_index(drop=True)\n",
        "  print(accumul_df.shape)\n",
        "\n",
        "accumul_df.shape"
      ],
      "execution_count": 68,
      "outputs": [
        {
          "output_type": "stream",
          "text": [
            "Period tested 2017-04-20 and 2017-04-24\n",
            "Query result rows = 1525997\n",
            "(1525997, 1)\n",
            "Period tested 2017-04-21 and 2017-04-25\n",
            "Query result rows = 1533069\n",
            "(1907311, 1)\n",
            "Period tested 2017-04-22 and 2017-04-26\n",
            "Query result rows = 1544675\n",
            "(2294218, 1)\n",
            "Period tested 2017-04-23 and 2017-04-27\n",
            "Query result rows = 1552697\n",
            "(2680020, 1)\n",
            "Period tested 2017-04-24 and 2017-04-28\n",
            "Query result rows = 1563409\n",
            "(3070875, 1)\n",
            "Period tested 2017-04-25 and 2017-04-29\n",
            "Query result rows = 1575188\n",
            "(3465322, 1)\n",
            "Period tested 2017-04-26 and 2017-04-30\n",
            "Query result rows = 1585401\n",
            "(3770064, 1)\n",
            "Period tested 2017-04-27 and 2017-05-01\n",
            "Query result rows = 1598202\n",
            "(4056421, 1)\n",
            "Period tested 2017-04-28 and 2017-05-02\n",
            "Query result rows = 1608494\n",
            "(4320416, 1)\n",
            "Period tested 2017-04-29 and 2017-05-03\n",
            "Query result rows = 1619389\n",
            "(4565180, 1)\n",
            "Period tested 2017-04-30 and 2017-05-04\n",
            "Query result rows = 1632888\n",
            "(4789847, 1)\n",
            "Period tested 2017-05-01 and 2017-05-05\n",
            "Query result rows = 1632513\n",
            "(4990568, 1)\n",
            "Period tested 2017-05-02 and 2017-05-06\n",
            "Query result rows = 1634252\n",
            "(5174683, 1)\n",
            "Period tested 2017-05-03 and 2017-05-07\n",
            "Query result rows = 1635178\n",
            "(5344226, 1)\n",
            "Period tested 2017-05-04 and 2017-05-08\n",
            "Query result rows = 1636637\n",
            "(5498704, 1)\n",
            "Period tested 2017-05-05 and 2017-05-09\n",
            "Query result rows = 1635298\n",
            "(5638006, 1)\n",
            "Period tested 2017-05-06 and 2017-05-10\n",
            "Query result rows = 1638849\n",
            "(5771077, 1)\n",
            "Period tested 2017-05-07 and 2017-05-11\n",
            "Query result rows = 1640702\n",
            "(5894111, 1)\n",
            "Period tested 2017-05-08 and 2017-05-12\n",
            "Query result rows = 1639452\n",
            "(6004673, 1)\n",
            "Period tested 2017-05-09 and 2017-05-13\n",
            "Query result rows = 1637426\n",
            "(6107058, 1)\n",
            "Period tested 2017-05-10 and 2017-05-14\n",
            "Query result rows = 1641648\n",
            "(6206160, 1)\n",
            "Period tested 2017-05-11 and 2017-05-15\n",
            "Query result rows = 1639966\n",
            "(6294372, 1)\n",
            "Period tested 2017-05-12 and 2017-05-16\n",
            "Query result rows = 1642651\n",
            "(6380971, 1)\n",
            "Period tested 2017-05-13 and 2017-05-17\n",
            "Query result rows = 1644538\n",
            "(6462472, 1)\n",
            "Period tested 2017-05-14 and 2017-05-18\n",
            "Query result rows = 1645992\n",
            "(6539383, 1)\n",
            "Period tested 2017-05-15 and 2017-05-19\n",
            "Query result rows = 1647708\n",
            "(6609966, 1)\n",
            "Period tested 2017-05-16 and 2017-05-20\n",
            "Query result rows = 1649306\n",
            "(6679039, 1)\n",
            "Period tested 2017-05-17 and 2017-05-21\n",
            "Query result rows = 1652295\n",
            "(6745073, 1)\n",
            "Period tested 2017-05-18 and 2017-05-22\n",
            "Query result rows = 1650624\n",
            "(6805344, 1)\n"
          ],
          "name": "stdout"
        },
        {
          "output_type": "execute_result",
          "data": {
            "text/plain": [
              "(6805344, 1)"
            ]
          },
          "metadata": {
            "tags": []
          },
          "execution_count": 68
        }
      ]
    },
    {
      "cell_type": "code",
      "metadata": {
        "id": "nQaLpVoeazGp",
        "colab_type": "code",
        "colab": {}
      },
      "source": [
        ""
      ],
      "execution_count": 0,
      "outputs": []
    },
    {
      "cell_type": "code",
      "metadata": {
        "colab_type": "code",
        "outputId": "1f8a4fdb-6f88-4415-c64a-03aabe48eb79",
        "id": "Cshx4w58a0pP",
        "colab": {
          "base_uri": "https://localhost:8080/",
          "height": 866
        }
      },
      "source": [
        "winLB = datetime.date(2017, 5, 4)\n",
        "winLimit = datetime.date(2017, 5, 22)\n",
        "accumul_df = pd.DataFrame()\n",
        "group = 'A'\n",
        "\n",
        "#winLB = winLB + datetime.timedelta(days=1)\n",
        "#a = print(winLB)\n",
        "#a\n",
        "\n",
        "while True:\n",
        "  #yourdatetime.date() == datetime.today().date()  \n",
        "  winUB = winLB + datetime.timedelta(days=4)\n",
        "  if winUB == winLimit+ datetime.timedelta(days=1):\n",
        "    break\n",
        "  \n",
        "  dayP1 = winLB + datetime.timedelta(days=1)\n",
        "  dayP2 = dayP1 + datetime.timedelta(days=1)\n",
        "  dayP3 = dayP2 + datetime.timedelta(days=1)\n",
        "  dayP4 = dayP3 + datetime.timedelta(days=1)  \n",
        "\n",
        "  query = f\"\"\"\n",
        "  SELECT DISTINCT ACT.playerid AS users\n",
        "\n",
        "  FROM abtest.activity AS ACT\n",
        "  JOIN abtest.assignment AS A\n",
        "  ON ACT.playerid = A.playerid\n",
        "\n",
        "  WHERE 1=1\n",
        "  AND A.abtest_group = '{group}'\n",
        "  AND ACT.activity_date = '{winLB.strftime('%Y-%m-%d')}'\n",
        "  AND ACT.playerid IN\n",
        "  (\n",
        "    SELECT ACT2.playerid\n",
        "    FROM abtest.activity AS ACT2\n",
        "    WHERE 1=1\n",
        "    AND ACT2.activity_date = '{dayP1.strftime('%Y-%m-%d')}'     \n",
        "  )\n",
        "  AND ACT.playerid IN\n",
        "  (\n",
        "    SELECT ACT3.playerid\n",
        "    FROM abtest.activity AS ACT3\n",
        "    WHERE 1=1\n",
        "    AND ACT3.activity_date = '{dayP2.strftime('%Y-%m-%d')}'\n",
        "   )\n",
        "  AND ACT.playerid IN\n",
        "  (\n",
        "    SELECT ACT4.playerid\n",
        "    FROM abtest.activity AS ACT4\n",
        "    WHERE 1=1\n",
        "    AND ACT4.activity_date = '{dayP3.strftime('%Y-%m-%d')}'     \n",
        "   )\n",
        "  AND ACT.playerid IN\n",
        "  (\n",
        "    SELECT ACT5.playerid\n",
        "    FROM abtest.activity AS ACT5\n",
        "    WHERE 1=1\n",
        "    AND ACT5.activity_date = '{dayP4.strftime('%Y-%m-%d')}'           \n",
        "  )\n",
        "  \"\"\"    \n",
        "  sLB = winLB.strftime('%Y-%m-%d')\n",
        "  sUB = dayP4.strftime('%Y-%m-%d')\n",
        "  print(\"Period tested \" + sLB + \" and \" + sUB)\n",
        "\n",
        "  #update starting LowerBound\n",
        "  winLB = winLB + datetime.timedelta(days=1)\n",
        "\n",
        "  #execute the query\n",
        "  query_df = client.query(query).to_dataframe()\n",
        "  print(\"Query result rows = \" + str(query_df.shape[0]))\n",
        "\n",
        "  #merge dataframes and delete duplicates\n",
        "  if accumul_df.shape[0] == 0:\n",
        "    accumul_df = query_df\n",
        "  else:\n",
        "    accumul_df = pd.concat([accumul_df, query_df])\n",
        "\n",
        "  accumul_df = accumul_df.drop_duplicates().reset_index(drop=True)\n",
        "  print(accumul_df.shape)\n",
        "\n",
        "accumul_df.shape"
      ],
      "execution_count": 70,
      "outputs": [
        {
          "output_type": "stream",
          "text": [
            "Period tested 2017-05-04 and 2017-05-08\n",
            "Query result rows = 1636637\n",
            "(1636637, 1)\n",
            "Period tested 2017-05-05 and 2017-05-09\n",
            "Query result rows = 1635298\n",
            "(2043544, 1)\n",
            "Period tested 2017-05-06 and 2017-05-10\n",
            "Query result rows = 1638849\n",
            "(2455355, 1)\n",
            "Period tested 2017-05-07 and 2017-05-11\n",
            "Query result rows = 1640702\n",
            "(2867297, 1)\n",
            "Period tested 2017-05-08 and 2017-05-12\n",
            "Query result rows = 1639452\n",
            "(3275899, 1)\n",
            "Period tested 2017-05-09 and 2017-05-13\n",
            "Query result rows = 1637426\n",
            "(3684095, 1)\n",
            "Period tested 2017-05-10 and 2017-05-14\n",
            "Query result rows = 1641648\n",
            "(4002561, 1)\n",
            "Period tested 2017-05-11 and 2017-05-15\n",
            "Query result rows = 1639966\n",
            "(4292914, 1)\n",
            "Period tested 2017-05-12 and 2017-05-16\n",
            "Query result rows = 1642651\n",
            "(4564569, 1)\n",
            "Period tested 2017-05-13 and 2017-05-17\n",
            "Query result rows = 1644538\n",
            "(4813385, 1)\n",
            "Period tested 2017-05-14 and 2017-05-18\n",
            "Query result rows = 1645992\n",
            "(5038864, 1)\n",
            "Period tested 2017-05-15 and 2017-05-19\n",
            "Query result rows = 1647708\n",
            "(5240115, 1)\n",
            "Period tested 2017-05-16 and 2017-05-20\n",
            "Query result rows = 1649306\n",
            "(5426160, 1)\n",
            "Period tested 2017-05-17 and 2017-05-21\n",
            "Query result rows = 1652295\n",
            "(5597156, 1)\n",
            "Period tested 2017-05-18 and 2017-05-22\n",
            "Query result rows = 1650624\n",
            "(5751343, 1)\n"
          ],
          "name": "stdout"
        },
        {
          "output_type": "execute_result",
          "data": {
            "text/plain": [
              "(5751343, 1)"
            ]
          },
          "metadata": {
            "tags": []
          },
          "execution_count": 70
        }
      ]
    },
    {
      "cell_type": "code",
      "metadata": {
        "id": "TZeAMnAUeW5q",
        "colab_type": "code",
        "colab": {}
      },
      "source": [
        ""
      ],
      "execution_count": 0,
      "outputs": []
    },
    {
      "cell_type": "code",
      "metadata": {
        "colab_type": "code",
        "outputId": "1dd27f6b-3a60-47ee-954e-850de06a3d0a",
        "id": "IDERdpwieXXj",
        "colab": {
          "base_uri": "https://localhost:8080/",
          "height": 1000
        }
      },
      "source": [
        "winLB = datetime.date(2017, 4, 20)\n",
        "winLimit = datetime.date(2017, 5, 22)\n",
        "accumul_df = pd.DataFrame()\n",
        "group = 'B'\n",
        "\n",
        "#winLB = winLB + datetime.timedelta(days=1)\n",
        "#a = print(winLB)\n",
        "#a\n",
        "\n",
        "while True:\n",
        "  #yourdatetime.date() == datetime.today().date()  \n",
        "  winUB = winLB + datetime.timedelta(days=4)\n",
        "  if winUB == winLimit+ datetime.timedelta(days=1):\n",
        "    break\n",
        "  \n",
        "  dayP1 = winLB + datetime.timedelta(days=1)\n",
        "  dayP2 = dayP1 + datetime.timedelta(days=1)\n",
        "  dayP3 = dayP2 + datetime.timedelta(days=1)\n",
        "  dayP4 = dayP3 + datetime.timedelta(days=1)  \n",
        "\n",
        "  query = f\"\"\"\n",
        "  SELECT DISTINCT ACT.playerid AS users\n",
        "\n",
        "  FROM abtest.activity AS ACT\n",
        "  JOIN abtest.assignment AS A\n",
        "  ON ACT.playerid = A.playerid\n",
        "\n",
        "  WHERE 1=1\n",
        "  AND A.abtest_group = '{group}'\n",
        "  AND ACT.activity_date = '{winLB.strftime('%Y-%m-%d')}'\n",
        "  AND ACT.playerid IN\n",
        "  (\n",
        "    SELECT ACT2.playerid\n",
        "    FROM abtest.activity AS ACT2\n",
        "    WHERE 1=1\n",
        "    AND ACT2.activity_date = '{dayP1.strftime('%Y-%m-%d')}'     \n",
        "  )\n",
        "  AND ACT.playerid IN\n",
        "  (\n",
        "    SELECT ACT3.playerid\n",
        "    FROM abtest.activity AS ACT3\n",
        "    WHERE 1=1\n",
        "    AND ACT3.activity_date = '{dayP2.strftime('%Y-%m-%d')}'\n",
        "   )\n",
        "  AND ACT.playerid IN\n",
        "  (\n",
        "    SELECT ACT4.playerid\n",
        "    FROM abtest.activity AS ACT4\n",
        "    WHERE 1=1\n",
        "    AND ACT4.activity_date = '{dayP3.strftime('%Y-%m-%d')}'     \n",
        "   )\n",
        "  AND ACT.playerid IN\n",
        "  (\n",
        "    SELECT ACT5.playerid\n",
        "    FROM abtest.activity AS ACT5\n",
        "    WHERE 1=1\n",
        "    AND ACT5.activity_date = '{dayP4.strftime('%Y-%m-%d')}'           \n",
        "  )\n",
        "  \"\"\"    \n",
        "  sLB = winLB.strftime('%Y-%m-%d')\n",
        "  sUB = dayP4.strftime('%Y-%m-%d')\n",
        "  print(\"Period tested \" + sLB + \" and \" + sUB)\n",
        "\n",
        "  #update starting LowerBound\n",
        "  winLB = winLB + datetime.timedelta(days=1)\n",
        "\n",
        "  #execute the query\n",
        "  query_df = client.query(query).to_dataframe()\n",
        "  print(\"Query result rows = \" + str(query_df.shape[0]))\n",
        "\n",
        "  #merge dataframes and delete duplicates\n",
        "  if accumul_df.shape[0] == 0:\n",
        "    accumul_df = query_df\n",
        "  else:\n",
        "    accumul_df = pd.concat([accumul_df, query_df])\n",
        "\n",
        "  accumul_df = accumul_df.drop_duplicates().reset_index(drop=True)\n",
        "  print(accumul_df.shape)\n",
        "\n",
        "accumul_df.shape"
      ],
      "execution_count": 71,
      "outputs": [
        {
          "output_type": "stream",
          "text": [
            "Period tested 2017-04-20 and 2017-04-24\n",
            "Query result rows = 380957\n",
            "(380957, 1)\n",
            "Period tested 2017-04-21 and 2017-04-25\n",
            "Query result rows = 382265\n",
            "(475913, 1)\n",
            "Period tested 2017-04-22 and 2017-04-26\n",
            "Query result rows = 385657\n",
            "(572795, 1)\n",
            "Period tested 2017-04-23 and 2017-04-27\n",
            "Query result rows = 386624\n",
            "(668717, 1)\n",
            "Period tested 2017-04-24 and 2017-04-28\n",
            "Query result rows = 388965\n",
            "(766063, 1)\n",
            "Period tested 2017-04-25 and 2017-04-29\n",
            "Query result rows = 392299\n",
            "(864513, 1)\n",
            "Period tested 2017-04-26 and 2017-04-30\n",
            "Query result rows = 395259\n",
            "(940802, 1)\n",
            "Period tested 2017-04-27 and 2017-05-01\n",
            "Query result rows = 398147\n",
            "(1012105, 1)\n",
            "Period tested 2017-04-28 and 2017-05-02\n",
            "Query result rows = 401370\n",
            "(1078333, 1)\n",
            "Period tested 2017-04-29 and 2017-05-03\n",
            "Query result rows = 403833\n",
            "(1139057, 1)\n",
            "Period tested 2017-04-30 and 2017-05-04\n",
            "Query result rows = 407350\n",
            "(1195229, 1)\n",
            "Period tested 2017-05-01 and 2017-05-05\n",
            "Query result rows = 407442\n",
            "(1245181, 1)\n",
            "Period tested 2017-05-02 and 2017-05-06\n",
            "Query result rows = 407591\n",
            "(1291180, 1)\n",
            "Period tested 2017-05-03 and 2017-05-07\n",
            "Query result rows = 408278\n",
            "(1333319, 1)\n",
            "Period tested 2017-05-04 and 2017-05-08\n",
            "Query result rows = 408675\n",
            "(1372186, 1)\n",
            "Period tested 2017-05-05 and 2017-05-09\n",
            "Query result rows = 408765\n",
            "(1407108, 1)\n",
            "Period tested 2017-05-06 and 2017-05-10\n",
            "Query result rows = 409822\n",
            "(1440578, 1)\n",
            "Period tested 2017-05-07 and 2017-05-11\n",
            "Query result rows = 410604\n",
            "(1471096, 1)\n",
            "Period tested 2017-05-08 and 2017-05-12\n",
            "Query result rows = 410255\n",
            "(1499108, 1)\n",
            "Period tested 2017-05-09 and 2017-05-13\n",
            "Query result rows = 410273\n",
            "(1524963, 1)\n",
            "Period tested 2017-05-10 and 2017-05-14\n",
            "Query result rows = 410842\n",
            "(1549502, 1)\n",
            "Period tested 2017-05-11 and 2017-05-15\n",
            "Query result rows = 409732\n",
            "(1571785, 1)\n",
            "Period tested 2017-05-12 and 2017-05-16\n",
            "Query result rows = 410366\n",
            "(1593315, 1)\n",
            "Period tested 2017-05-13 and 2017-05-17\n",
            "Query result rows = 411209\n",
            "(1613764, 1)\n",
            "Period tested 2017-05-14 and 2017-05-18\n",
            "Query result rows = 411051\n",
            "(1632807, 1)\n",
            "Period tested 2017-05-15 and 2017-05-19\n",
            "Query result rows = 411037\n",
            "(1650501, 1)\n",
            "Period tested 2017-05-16 and 2017-05-20\n",
            "Query result rows = 411207\n",
            "(1667691, 1)\n",
            "Period tested 2017-05-17 and 2017-05-21\n",
            "Query result rows = 411107\n",
            "(1684234, 1)\n",
            "Period tested 2017-05-18 and 2017-05-22\n",
            "Query result rows = 411713\n",
            "(1699352, 1)\n"
          ],
          "name": "stdout"
        },
        {
          "output_type": "execute_result",
          "data": {
            "text/plain": [
              "(1699352, 1)"
            ]
          },
          "metadata": {
            "tags": []
          },
          "execution_count": 71
        }
      ]
    },
    {
      "cell_type": "code",
      "metadata": {
        "id": "RUc4Vls3hS05",
        "colab_type": "code",
        "colab": {}
      },
      "source": [
        ""
      ],
      "execution_count": 0,
      "outputs": []
    },
    {
      "cell_type": "code",
      "metadata": {
        "colab_type": "code",
        "outputId": "4494e661-9873-41d3-e389-541d93b91083",
        "id": "pOK4Q0U3hTSZ",
        "colab": {
          "base_uri": "https://localhost:8080/",
          "height": 866
        }
      },
      "source": [
        "winLB = datetime.date(2017, 5, 4)\n",
        "winLimit = datetime.date(2017, 5, 22)\n",
        "accumul_df = pd.DataFrame()\n",
        "group = 'B'\n",
        "\n",
        "#winLB = winLB + datetime.timedelta(days=1)\n",
        "#a = print(winLB)\n",
        "#a\n",
        "\n",
        "while True:\n",
        "  #yourdatetime.date() == datetime.today().date()  \n",
        "  winUB = winLB + datetime.timedelta(days=4)\n",
        "  if winUB == winLimit+ datetime.timedelta(days=1):\n",
        "    break\n",
        "  \n",
        "  dayP1 = winLB + datetime.timedelta(days=1)\n",
        "  dayP2 = dayP1 + datetime.timedelta(days=1)\n",
        "  dayP3 = dayP2 + datetime.timedelta(days=1)\n",
        "  dayP4 = dayP3 + datetime.timedelta(days=1)  \n",
        "\n",
        "  query = f\"\"\"\n",
        "  SELECT DISTINCT ACT.playerid AS users\n",
        "\n",
        "  FROM abtest.activity AS ACT\n",
        "  JOIN abtest.assignment AS A\n",
        "  ON ACT.playerid = A.playerid\n",
        "\n",
        "  WHERE 1=1\n",
        "  AND A.abtest_group = '{group}'\n",
        "  AND ACT.activity_date = '{winLB.strftime('%Y-%m-%d')}'\n",
        "  AND ACT.playerid IN\n",
        "  (\n",
        "    SELECT ACT2.playerid\n",
        "    FROM abtest.activity AS ACT2\n",
        "    WHERE 1=1\n",
        "    AND ACT2.activity_date = '{dayP1.strftime('%Y-%m-%d')}'     \n",
        "  )\n",
        "  AND ACT.playerid IN\n",
        "  (\n",
        "    SELECT ACT3.playerid\n",
        "    FROM abtest.activity AS ACT3\n",
        "    WHERE 1=1\n",
        "    AND ACT3.activity_date = '{dayP2.strftime('%Y-%m-%d')}'\n",
        "   )\n",
        "  AND ACT.playerid IN\n",
        "  (\n",
        "    SELECT ACT4.playerid\n",
        "    FROM abtest.activity AS ACT4\n",
        "    WHERE 1=1\n",
        "    AND ACT4.activity_date = '{dayP3.strftime('%Y-%m-%d')}'     \n",
        "   )\n",
        "  AND ACT.playerid IN\n",
        "  (\n",
        "    SELECT ACT5.playerid\n",
        "    FROM abtest.activity AS ACT5\n",
        "    WHERE 1=1\n",
        "    AND ACT5.activity_date = '{dayP4.strftime('%Y-%m-%d')}'           \n",
        "  )\n",
        "  \"\"\"    \n",
        "  sLB = winLB.strftime('%Y-%m-%d')\n",
        "  sUB = dayP4.strftime('%Y-%m-%d')\n",
        "  print(\"Period tested \" + sLB + \" and \" + sUB)\n",
        "\n",
        "  #update starting LowerBound\n",
        "  winLB = winLB + datetime.timedelta(days=1)\n",
        "\n",
        "  #execute the query\n",
        "  query_df = client.query(query).to_dataframe()\n",
        "  print(\"Query result rows = \" + str(query_df.shape[0]))\n",
        "\n",
        "  #merge dataframes and delete duplicates\n",
        "  if accumul_df.shape[0] == 0:\n",
        "    accumul_df = query_df\n",
        "  else:\n",
        "    accumul_df = pd.concat([accumul_df, query_df])\n",
        "\n",
        "  accumul_df = accumul_df.drop_duplicates().reset_index(drop=True)\n",
        "  print(accumul_df.shape)\n",
        "\n",
        "accumul_df.shape"
      ],
      "execution_count": 72,
      "outputs": [
        {
          "output_type": "stream",
          "text": [
            "Period tested 2017-05-04 and 2017-05-08\n",
            "Query result rows = 408675\n",
            "(408675, 1)\n",
            "Period tested 2017-05-05 and 2017-05-09\n",
            "Query result rows = 408765\n",
            "(510555, 1)\n",
            "Period tested 2017-05-06 and 2017-05-10\n",
            "Query result rows = 409822\n",
            "(613492, 1)\n",
            "Period tested 2017-05-07 and 2017-05-11\n",
            "Query result rows = 410604\n",
            "(716139, 1)\n",
            "Period tested 2017-05-08 and 2017-05-12\n",
            "Query result rows = 410255\n",
            "(818674, 1)\n",
            "Period tested 2017-05-09 and 2017-05-13\n",
            "Query result rows = 410273\n",
            "(921052, 1)\n",
            "Period tested 2017-05-10 and 2017-05-14\n",
            "Query result rows = 410842\n",
            "(1000089, 1)\n",
            "Period tested 2017-05-11 and 2017-05-15\n",
            "Query result rows = 409732\n",
            "(1072426, 1)\n",
            "Period tested 2017-05-12 and 2017-05-16\n",
            "Query result rows = 410366\n",
            "(1140183, 1)\n",
            "Period tested 2017-05-13 and 2017-05-17\n",
            "Query result rows = 411209\n",
            "(1202575, 1)\n",
            "Period tested 2017-05-14 and 2017-05-18\n",
            "Query result rows = 411051\n",
            "(1258746, 1)\n",
            "Period tested 2017-05-15 and 2017-05-19\n",
            "Query result rows = 411037\n",
            "(1308990, 1)\n",
            "Period tested 2017-05-16 and 2017-05-20\n",
            "Query result rows = 411207\n",
            "(1355524, 1)\n",
            "Period tested 2017-05-17 and 2017-05-21\n",
            "Query result rows = 411107\n",
            "(1398048, 1)\n",
            "Period tested 2017-05-18 and 2017-05-22\n",
            "Query result rows = 411713\n",
            "(1436431, 1)\n"
          ],
          "name": "stdout"
        },
        {
          "output_type": "execute_result",
          "data": {
            "text/plain": [
              "(1436431, 1)"
            ]
          },
          "metadata": {
            "tags": []
          },
          "execution_count": 72
        }
      ]
    },
    {
      "cell_type": "markdown",
      "metadata": {
        "id": "VF6bk4d9j3v3",
        "colab_type": "text"
      },
      "source": [
        "Comparing the percentages between group A and group B I found that they are similar therefore the difference between group A and group B is not in the streak. <br/><br/>\n",
        "\n",
        "<table align=\"left\">\n",
        "<tr><td><b>Group</b></td><td><b>Period</b></td><td><b>5 day streak</b></td><td><b>Unique users</b></td><td><b>Percentage</b></td></tr>\n",
        "<tr><td>A</td><td>Overall</td><td>6805344</td><td>8265610</td><td>82.33%</tr>\n",
        "<tr><td>A</td><td>Pre-Test</td><td>4565180</td><td>6776037</td><td>67.37%</tr>\n",
        "<tr><td>A</td><td>Test</td><td>5751343</td><td>8265610</td><td>69.58%</tr>\n",
        "<tr><td>B</td><td>Overall</td><td>1699352</td><td>2065446</td><td>82.27%</tr>\n",
        "<tr><td>B</td><td>Pre-Test</td><td>1139057</td><td>1692085</td><td>67.32%</tr>\n",
        "<tr><td>B</td><td>Test</td><td>1436431</td><td>2065446</td><td>69.55%</tr>\n",
        "</table>\n",
        "\n"
      ]
    }
  ]
}